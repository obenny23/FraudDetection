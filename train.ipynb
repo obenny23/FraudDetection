{
 "cells": [
  {
   "cell_type": "code",
   "execution_count": null,
   "metadata": {},
   "outputs": [],
   "source": [
    "#data preproccessing\n",
    "import pandas as pd\n",
    "\n",
    "#import train dataset\n",
    "train = pd.read_csv('fraudTrain.csv')\n",
    "print(train.shape)\n",
    "\n",
    "train_sample = train.sample(10000, random_state=42)\n",
    "train_sample = train_sample.reset_index(drop=True)\n",
    "\n",
    "train_sample['is-fraud'].value_counts(normalize=True)\n",
    "\n",
    "train['is-fraud'].value_counts(normalize=True)\n",
    "\n",
    "#save randomized sample to trainset as a csv file\n",
    "train_sample.to_csv('fraud_train_sample.csv', index=False)\n"
   ]
  }
 ],
 "metadata": {
  "kernelspec": {
   "display_name": "Python 3.8.3 32-bit",
   "language": "python",
   "name": "python3"
  },
  "language_info": {
   "name": "python",
   "version": "3.8.3"
  },
  "orig_nbformat": 4,
  "vscode": {
   "interpreter": {
    "hash": "f9ec77a2f32646bdd79427082da48371d13a717c24a3392ce92be8c8843c3374"
   }
  }
 },
 "nbformat": 4,
 "nbformat_minor": 2
}
